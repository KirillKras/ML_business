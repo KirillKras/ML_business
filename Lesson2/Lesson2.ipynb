{
 "cells": [
  {
   "cell_type": "code",
   "execution_count": null,
   "outputs": [],
   "source": [
    "import pandas as pd\n",
    "import matplotlib.pyplot as plt"
   ],
   "metadata": {
    "collapsed": false,
    "pycharm": {
     "name": "#%%\n"
    }
   }
  },
  {
   "cell_type": "code",
   "execution_count": null,
   "outputs": [],
   "source": [
    "import statsmodels.formula.api as smf\n",
    "import statsmodels.tsa.api as smt\n",
    "import statsmodels.api as sm\n",
    "import scipy.stats as scs"
   ],
   "metadata": {
    "collapsed": false,
    "pycharm": {
     "name": "#%%\n"
    }
   }
  },
  {
   "cell_type": "code",
   "execution_count": null,
   "outputs": [],
   "source": [
    "import numpy as np"
   ],
   "metadata": {
    "collapsed": false,
    "pycharm": {
     "name": "#%%\n"
    }
   }
  },
  {
   "cell_type": "markdown",
   "source": [
    "### Задание 1\n",
    "Прочитайте базу \"Потребление Энергии\" и сделайте модель для сезонных изменений по data_exp_1 с горизонт прогноза h=1 и h=10 по образцу из примера для обработки ряда \"цена Нефти\" . Учитывать только глубину истории при p=3"
   ],
   "metadata": {
    "collapsed": false
   }
  },
  {
   "cell_type": "code",
   "execution_count": null,
   "outputs": [],
   "source": [
    "data = pd.read_csv('my_PJME_MW.csv', index_col=[0], parse_dates=[0])\n",
    "data.head()"
   ],
   "metadata": {
    "collapsed": false,
    "pycharm": {
     "name": "#%%\n"
    }
   }
  },
  {
   "cell_type": "code",
   "execution_count": null,
   "outputs": [],
   "source": [
    "data.info()"
   ],
   "metadata": {
    "collapsed": false,
    "pycharm": {
     "name": "#%%\n"
    }
   }
  },
  {
   "cell_type": "code",
   "execution_count": null,
   "outputs": [],
   "source": [
    "data = pd.DataFrame(data = data[['PJME_MW']])\n",
    "data.head()"
   ],
   "metadata": {
    "collapsed": false,
    "pycharm": {
     "name": "#%%\n"
    }
   }
  },
  {
   "cell_type": "code",
   "execution_count": null,
   "outputs": [],
   "source": [
    "plt.figure(figsize =(20,4))\n",
    "plt.plot(data.index, data['PJME_MW'], 'b' )\n",
    "plt.title('PJM East потребление энергии' )\n",
    "plt.ylabel ( 'МВт' )\n",
    "plt.show()"
   ],
   "metadata": {
    "collapsed": false,
    "pycharm": {
     "name": "#%%\n"
    }
   }
  },
  {
   "cell_type": "code",
   "execution_count": null,
   "outputs": [],
   "source": [
    "def exponential_smoothing(series, alpha):\n",
    "    result = [series[0]] # first value is same as series\n",
    "    for n in range(1, len(series)):\n",
    "        result.append(alpha * series[n] + (1 - alpha) * result[n-1])\n",
    "    return result"
   ],
   "metadata": {
    "collapsed": false,
    "pycharm": {
     "name": "#%%\n"
    }
   }
  },
  {
   "cell_type": "code",
   "execution_count": null,
   "outputs": [],
   "source": [
    "data_day = data.resample('D').mean()"
   ],
   "metadata": {
    "collapsed": false,
    "pycharm": {
     "name": "#%%\n"
    }
   }
  },
  {
   "cell_type": "code",
   "execution_count": null,
   "outputs": [],
   "source": [
    "data_exp_smooth = exponential_smoothing(data_day['PJME_MW'], 0.05)"
   ],
   "metadata": {
    "collapsed": false,
    "pycharm": {
     "name": "#%%\n"
    }
   }
  },
  {
   "cell_type": "code",
   "execution_count": null,
   "outputs": [],
   "source": [
    "data_exp_smooth = pd.DataFrame(data=data_exp_smooth, index=data_day.index)"
   ],
   "metadata": {
    "collapsed": false,
    "pycharm": {
     "name": "#%%\n"
    }
   }
  },
  {
   "cell_type": "code",
   "execution_count": null,
   "outputs": [],
   "source": [
    "plt.figure(figsize =(20,4))\n",
    "plt.plot(data_exp_smooth.index, data_exp_smooth[0], 'b' )\n",
    "plt.title('PJM East с экспоненциальным сглаживанием и дневным ресэмплом' )\n",
    "plt.ylabel ( 'МВт' )\n",
    "plt.show()"
   ],
   "metadata": {
    "collapsed": false,
    "pycharm": {
     "name": "#%%\n"
    }
   }
  },
  {
   "cell_type": "code",
   "execution_count": null,
   "outputs": [],
   "source": [
    "df = pd.DataFrame(data=data_exp_smooth)"
   ],
   "metadata": {
    "collapsed": false,
    "pycharm": {
     "name": "#%%\n"
    }
   }
  },
  {
   "cell_type": "code",
   "execution_count": null,
   "outputs": [],
   "source": [
    "df.rename(columns={0: 'PJME_MW'}, inplace=True)\n",
    "df.head()"
   ],
   "metadata": {
    "collapsed": false,
    "pycharm": {
     "name": "#%%\n"
    }
   }
  },
  {
   "cell_type": "code",
   "execution_count": null,
   "outputs": [],
   "source": [
    "df['t'] = 0\n",
    "df.iloc[1:, 1] = df.iloc[:-1, 0].values\n",
    "df['t1'] = 0\n",
    "df.iloc[2:, 2] = df.iloc[:-2, 0].values\n",
    "df['t2'] = 0\n",
    "df.iloc[3:, 3] = df.iloc[:-3, 0].values\n",
    "df.head()"
   ],
   "metadata": {
    "collapsed": false,
    "pycharm": {
     "name": "#%%\n"
    }
   }
  },
  {
   "cell_type": "code",
   "execution_count": null,
   "outputs": [],
   "source": [
    "def get_split_data(data, split_date):\n",
    "    return data[:split_date], data[split_date:]"
   ],
   "metadata": {
    "collapsed": false,
    "pycharm": {
     "name": "#%%\n"
    }
   }
  },
  {
   "cell_type": "code",
   "execution_count": null,
   "outputs": [],
   "source": [
    "splitter = '2017-01-01'\n",
    "train, test = get_split_data(df, splitter)"
   ],
   "metadata": {
    "collapsed": false,
    "pycharm": {
     "name": "#%%\n"
    }
   }
  },
  {
   "cell_type": "code",
   "execution_count": null,
   "outputs": [],
   "source": [
    "plt.figure( figsize=( 15, 7 ))\n",
    "plt.xlabel('Время')\n",
    "plt.ylabel('Цена нефти Brent')\n",
    "plt.plot(train.index,train[df.columns[0]], label='train data' )\n",
    "plt.plot(test.index, test[df.columns[0]], label='test data')\n",
    "plt.title( 'Тестовые и тренировочные данные' )\n",
    "plt.legend()\n",
    "plt.show()"
   ],
   "metadata": {
    "collapsed": false,
    "pycharm": {
     "name": "#%%\n"
    }
   }
  },
  {
   "cell_type": "code",
   "execution_count": null,
   "outputs": [],
   "source": [
    "def mean_absolute_percentage_error(y, y_pred):\n",
    "    y, y_pred = np.array(y), np.array(y_pred)\n",
    "    return np.mean(np.abs(y - y_pred) / y) * 100"
   ],
   "metadata": {
    "collapsed": false,
    "pycharm": {
     "name": "#%%\n"
    }
   }
  },
  {
   "cell_type": "markdown",
   "source": [
    "Обучим модель для предсказания с горизонтом прогноза 1"
   ],
   "metadata": {
    "collapsed": false
   }
  },
  {
   "cell_type": "code",
   "execution_count": null,
   "outputs": [],
   "source": [
    "h = 1\n",
    "X_train = train.iloc[:-h,:]\n",
    "y_train = train['PJME_MW'].values[h:]\n",
    "X_test = test.iloc[:-h,:]\n",
    "y_test = test['PJME_MW'].values[h:]"
   ],
   "metadata": {
    "collapsed": false,
    "pycharm": {
     "name": "#%%\n"
    }
   }
  },
  {
   "cell_type": "code",
   "execution_count": null,
   "outputs": [],
   "source": [
    "model_gb = GradientBoostingRegressor(max_depth=15, random_state=0, n_estimators=100)\n",
    "model_gb.fit( X_train, y_train) \n",
    "X_test_pred_gb = model_gb.predict(X_test)\n",
    "\n",
    "er_g_1 = mean_absolute_percentage_error(y_test, X_test_pred_gb)\n",
    "\n",
    "print(f'ошибка градиентного бустинга : {er_g_1:.2}%')"
   ],
   "metadata": {
    "collapsed": false,
    "pycharm": {
     "name": "#%%\n"
    }
   }
  },
  {
   "cell_type": "code",
   "execution_count": null,
   "outputs": [],
   "source": [
    "plt.figure( figsize=( 20, 4 ))\n",
    "\n",
    "plt.xlabel('Время')\n",
    "plt.ylabel('Потребление энергии')\n",
    "plt.plot(test.index[h:],X_test_pred_gb, label='predict GB data' )\n",
    "plt.plot(test.index[h:],y_test, label='test data')\n",
    "\n",
    "plt.legend()\n",
    "plt.show()"
   ],
   "metadata": {
    "collapsed": false,
    "pycharm": {
     "name": "#%%\n"
    }
   }
  },
  {
   "cell_type": "markdown",
   "source": [
    "Обучим модель для предсказания с горизонтом прогноза 10"
   ],
   "metadata": {
    "collapsed": false
   }
  },
  {
   "cell_type": "code",
   "execution_count": null,
   "outputs": [],
   "source": [
    "h = 10\n",
    "X_train = train.iloc[:-h,:]\n",
    "y_train = train['PJME_MW'].values[h:]\n",
    "X_test = test.iloc[:-h,:]\n",
    "y_test = test['PJME_MW'].values[h:]"
   ],
   "metadata": {
    "collapsed": false,
    "pycharm": {
     "name": "#%%\n"
    }
   }
  },
  {
   "cell_type": "code",
   "execution_count": null,
   "outputs": [],
   "source": [
    "model_gb = GradientBoostingRegressor(max_depth=15, random_state=0, n_estimators=100)\n",
    "model_gb.fit( X_train, y_train) \n",
    "X_test_pred_gb = model_gb.predict(X_test)\n",
    "\n",
    "er_g_10 = mean_absolute_percentage_error(y_test, X_test_pred_gb)\n",
    "\n",
    "print(f'ошибка градиентного бустинга : {er_g_10:.2}%')"
   ],
   "metadata": {
    "collapsed": false,
    "pycharm": {
     "name": "#%%\n"
    }
   }
  },
  {
   "cell_type": "code",
   "execution_count": null,
   "outputs": [],
   "source": [
    "plt.figure( figsize=( 20, 4 ))\n",
    "\n",
    "plt.xlabel('Время')\n",
    "plt.ylabel('Потребление энергии')\n",
    "plt.plot(test.index[h:],X_test_pred_gb, label='predict GB data' )\n",
    "plt.plot(test.index[h:],y_test, label='test data')\n",
    "\n",
    "plt.legend()\n",
    "plt.show()"
   ],
   "metadata": {
    "collapsed": false,
    "pycharm": {
     "name": "#%%\n"
    }
   }
  },
  {
   "cell_type": "markdown",
   "source": [
    "### Задание 2\n",
    "Оцените ошибку модели"
   ],
   "metadata": {
    "collapsed": false
   }
  },
  {
   "cell_type": "code",
   "execution_count": null,
   "outputs": [],
   "source": [
    "print(f'H=1, ошибка градиентного бустинга : {er_g_1:.2}%')\n",
    "print(f'H=10, ошибка градиентного бустинга : {er_g_10:.2}%')"
   ],
   "metadata": {
    "collapsed": false,
    "pycharm": {
     "name": "#%%\n"
    }
   }
  },
  {
   "cell_type": "markdown",
   "source": [
    "### Задание 3\n",
    "Сделайте вывод о том, как изменилась ошибка модели по значениям h."
   ],
   "metadata": {
    "collapsed": false
   }
  },
  {
   "cell_type": "markdown",
   "source": [
    "С увеличением горизонта прогноза ошибка прогноза предсказуемо растет."
   ],
   "metadata": {
    "collapsed": false
   }
  },
  {
   "cell_type": "markdown",
   "source": [
    "### Задание 4\n",
    "Попробуйте предположить характер ряда (стационарный или нет, с трендом, с сезоном, с циклом) для рядов из списка и аргументируйте свой ответ (одна строка):  \n",
    "а) Изменение температуры за окном :).  \n",
    "б) Количество денег, которые тратят покупатели в интернет магазине.  \n",
    "в) Вес растущего котенка.  \n",
    "г) Прирост объема деревьев в лесу от времени  "
   ],
   "metadata": {
    "collapsed": false
   }
  },
  {
   "cell_type": "markdown",
   "source": [
    "а) не стационарный, сезонный, если верить в глобальное потепление то есть тренд на увеличение.  \n",
    "б) не стационарный, сезонный, цикличный (цикл привязан к циклам в экономике), а также есть тренд на увиличение для стран с заметной инфляцией.  \n",
    "в) не стационарный, есть тренд на увеличение  \n",
    "г) предполагаю что рост количества деревьев происходит в некой геометрической прогрессии, тогда их прирост будет не стационарным с трендом на увеличение, в странах с холодным временем года сезоннный.  "
   ],
   "metadata": {
    "collapsed": false
   }
  },
  {
   "cell_type": "markdown",
   "source": [
    "### Задание 5\n",
    "Какие из рядов на картинке стационарны на первый взгляд? (презентация, слайд номер 21)"
   ],
   "metadata": {
    "collapsed": false
   }
  },
  {
   "cell_type": "markdown",
   "source": [
    "b d"
   ],
   "metadata": {
    "collapsed": false
   }
  }
 ],
 "metadata": {
  "kernelspec": {
   "display_name": "Python 3",
   "language": "python",
   "name": "python3"
  },
  "language_info": {
   "codemirror_mode": {
    "name": "ipython",
    "version": 3
   },
   "file_extension": ".py",
   "mimetype": "text/x-python",
   "name": "python",
   "nbconvert_exporter": "python",
   "pygments_lexer": "ipython3",
   "version": "3.7.3"
  },
  "pycharm": {
   "stem_cell": {
    "cell_type": "raw",
    "source": [],
    "metadata": {
     "collapsed": false
    }
   }
  }
 },
 "nbformat": 4,
 "nbformat_minor": 1
}